{
 "cells": [
  {
   "cell_type": "markdown",
   "id": "3cb6ef2b-0745-4f9e-83f5-c948fbabd7dd",
   "metadata": {},
   "source": [
    "To perform these experiments you would first need to implement a DCGAN using a framework like Tensorflow or Pytorch then you would train the Network using the CIFAR 10 datsets During traniing you monitor the losses of both genrator and discrimator:\n",
    "1. Dataset Prepration\n",
    "2. Genrator and Discrimantor Architecture\n",
    "3. Traning Loop\n",
    "4. Loss Calculation\n",
    "5. Convergence Assesement"
   ]
  },
  {
   "cell_type": "code",
   "execution_count": 2,
   "id": "40808903-e0ac-496d-8f44-d5899f321d37",
   "metadata": {},
   "outputs": [
    {
     "ename": "IndentationError",
     "evalue": "unindent does not match any outer indentation level (<tokenize>, line 8)",
     "output_type": "error",
     "traceback": [
      "\u001b[0;36m  File \u001b[0;32m<tokenize>:8\u001b[0;36m\u001b[0m\n\u001b[0;31m    plt.title('Generator and Discrimator Losses')\u001b[0m\n\u001b[0m    ^\u001b[0m\n\u001b[0;31mIndentationError\u001b[0m\u001b[0;31m:\u001b[0m unindent does not match any outer indentation level\n"
     ]
    }
   ],
   "source": [
    "import matplotlib.pylot as plt\n",
    "\n",
    "def plot_losses(genrator_losses,discrimnator_losses):\n",
    "    plt.plot(genrator_losses,label='genrator loss')\n",
    "    plt.plot(discrimnator_losses,label='Discriminator Loss)\n",
    "             plt.xlabel(Epochs')\n",
    "                        plt.ylabel('Loss')\n",
    "                    plt.title('Generator and Discrimator Losses')\n",
    "                        plt.legend()\n",
    "                        plt.show()"
   ]
  },
  {
   "cell_type": "markdown",
   "id": "745a1e1b-d2cf-4915-a313-4f38e2305ef0",
   "metadata": {},
   "source": [
    "To accomplish this task you will need to follow these steps:\n",
    "1. Load CIFAR-10 Dataset\n",
    "2. Remove Classfication\n",
    "3. Replace Classfication\n",
    "4. Train Modified Model\n",
    "5. Calculate Classfication\n",
    "6. Plot Accuracy over Epochs"
   ]
  },
  {
   "cell_type": "code",
   "execution_count": 1,
   "id": "14130e1e-8bcf-4e5c-8ef2-8b7c98252987",
   "metadata": {},
   "outputs": [
    {
     "ename": "SyntaxError",
     "evalue": "invalid syntax (3730483327.py, line 3)",
     "output_type": "error",
     "traceback": [
      "\u001b[0;36m  Cell \u001b[0;32mIn[1], line 3\u001b[0;36m\u001b[0m\n\u001b[0;31m    from\u001b[0m\n\u001b[0m        ^\u001b[0m\n\u001b[0;31mSyntaxError\u001b[0m\u001b[0;31m:\u001b[0m invalid syntax\n"
     ]
    }
   ],
   "source": [
    "import numpy as np\n",
    "import cv2\n",
    "from\n",
    "tensorflow.keras.preprocessing.image\n",
    "import ImageDataGenrator\n",
    "\n",
    "def\n",
    "genrate_augumented_data(image_dataset, batch_size=32):\n",
    "    datagen = ImageDataGenrator(\n",
    "        rotation_range=20,\n",
    "        width_shift_range=0,1,\n",
    "        height_shift_range=0,1\n",
    "        shear_range=0.1\n",
    "        zoom_range=0.1\n",
    "        horizontal_flip=True\n",
    "        vertical_flip=True,\n",
    "        fill_model='nearest')\n",
    "    \n",
    "    agumented_data = []\n",
    "    for batch in\n",
    "    datagen.flow(image_dataset,\n",
    "                 batch_size=batch_size):\n",
    "        \n",
    "        augumented_data.extebd(batch)\n",
    "        if len(augumented_data)\n",
    "        len(image_dataset):\n",
    "            break\n",
    "            \n",
    "            return np.array(augumented_data)"
   ]
  },
  {
   "cell_type": "code",
   "execution_count": 2,
   "id": "5588d198-fe2f-4af0-a68e-81112a9bba2c",
   "metadata": {},
   "outputs": [
    {
     "ename": "SyntaxError",
     "evalue": "invalid syntax (1722953013.py, line 2)",
     "output_type": "error",
     "traceback": [
      "\u001b[0;36m  Cell \u001b[0;32mIn[2], line 2\u001b[0;36m\u001b[0m\n\u001b[0;31m    from tensorflow.keras.layers import\u001b[0m\n\u001b[0m                                       ^\u001b[0m\n\u001b[0;31mSyntaxError\u001b[0m\u001b[0;31m:\u001b[0m invalid syntax\n"
     ]
    }
   ],
   "source": [
    "import tensorflow as tf\n",
    "from tensorflow.keras.layers import\n",
    "input,Conv2D,Flatten,Dense,LeakyReLU\n",
    "from tensorflow.keras.models import\n",
    "model\n",
    "\n",
    "def\n",
    "create_discriminator(input_shapes):\n",
    "    # Define input layer\n",
    "    input_img = \n",
    "    Input(shape=input_shape)\n",
    "    \n",
    "    # Convolutional layers\n",
    "    \n",
    "# Example usage:\n",
    "# image_shape = (height,widht,channels)\n",
    "# discrminator\n",
    "create_discrimnator(image_shape)\n",
    "# discriminator.summary()"
   ]
  },
  {
   "cell_type": "code",
   "execution_count": null,
   "id": "de51e708-6218-4d02-bdc9-3a28bd4b6438",
   "metadata": {},
   "outputs": [],
   "source": []
  }
 ],
 "metadata": {
  "kernelspec": {
   "display_name": "Python 3 (ipykernel)",
   "language": "python",
   "name": "python3"
  },
  "language_info": {
   "codemirror_mode": {
    "name": "ipython",
    "version": 3
   },
   "file_extension": ".py",
   "mimetype": "text/x-python",
   "name": "python",
   "nbconvert_exporter": "python",
   "pygments_lexer": "ipython3",
   "version": "3.10.8"
  }
 },
 "nbformat": 4,
 "nbformat_minor": 5
}
